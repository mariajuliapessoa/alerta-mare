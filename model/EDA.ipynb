{
 "cells": [
  {
   "cell_type": "code",
   "execution_count": 4,
   "id": "dca0efe0",
   "metadata": {},
   "outputs": [],
   "source": [
    "import pandas as pd\n",
    "import os"
   ]
  },
  {
   "cell_type": "code",
   "execution_count": 5,
   "id": "16de33f5",
   "metadata": {},
   "outputs": [
    {
     "name": "stdout",
     "output_type": "stream",
     "text": [
      "Dataset carregado:\n",
      "   latitude  longitude                                          previsoes  \\\n",
      "0   -3.8333   -32.4033  [{'dia': 'QUA', 'data': '01/01/2025', 'hora1':...   \n",
      "1   -1.6917   -50.4833  [{'dia': 'QUA', 'data': '01/01/2025', 'hora1':...   \n",
      "2   -1.6917   -50.4833  [{'dia': 'QUA', 'data': '01/01/2025', 'hora1':...   \n",
      "3  -25.4600   -48.1567  [{'dia': 'QUA', 'data': '01/01/2025', 'hora1':...   \n",
      "4       NaN        NaN                                                NaN   \n",
      "5       NaN        NaN                                                NaN   \n",
      "6       NaN        NaN                                                NaN   \n",
      "7       NaN        NaN                                                NaN   \n",
      "8       NaN        NaN                                                NaN   \n",
      "9       NaN        NaN                                                NaN   \n",
      "\n",
      "                                 praia  dia        data  hora1  altura1  \\\n",
      "0   arquipelago_de_fernando_de_noronha    0         NaN    NaN      NaN   \n",
      "1                atracadouro_de_breves    0         NaN    NaN      NaN   \n",
      "2  barra_de_paranagua_canal_da_galheta    0         NaN    NaN      NaN   \n",
      "3      barra_de_paranagua_canal_sueste    0         NaN    NaN      NaN   \n",
      "4                          barra_norte    1  01/01/2025  404.0     0.04   \n",
      "5                          barra_norte    2  02/01/2025  514.0     0.11   \n",
      "6                          barra_norte    3  03/01/2025  451.0    -0.03   \n",
      "7                          barra_norte    4  04/01/2025  557.0     0.21   \n",
      "8                          barra_norte    5  05/01/2025  527.0    -0.05   \n",
      "9                          barra_norte    6  06/01/2025   49.0     3.18   \n",
      "\n",
      "    hora2 altura2   hora3 altura3   hora4 altura4   0  mes   ano  \n",
      "0     NaN     NaN     NaN     NaN     NaN     NaN NaN    0     0  \n",
      "1     NaN     NaN     NaN     NaN     NaN     NaN NaN    0     0  \n",
      "2     NaN     NaN     NaN     NaN     NaN     NaN NaN    0     0  \n",
      "3     NaN     NaN     NaN     NaN     NaN     NaN NaN    0     0  \n",
      "4  1027.0    3.41  1621.0    0.62  2234.0    3.52 NaN    1  2025  \n",
      "5  1151.0    3.48  1736.0    0.61  2359.0    3.38 NaN    1  2025  \n",
      "6  1108.0    3.50  1704.0    0.50  2316.0    3.52 NaN    1  2025  \n",
      "7  1234.0    3.33  1810.0    0.63     3.0     SEX NaN    1  2025  \n",
      "8  1159.0    3.50  1753.0    0.44    19.0     DOM NaN    1  2025  \n",
      "9   634.0    0.38  1321.0    3.14  1855.0    0.67 NaN    1  2025  \n"
     ]
    }
   ],
   "source": [
    "dataset_path = \"../dataset_mare.csv\"\n",
    "df = pd.read_csv(dataset_path)\n",
    "\n",
    "print(\"Dataset carregado:\")\n",
    "print(df.head(10))"
   ]
  },
  {
   "cell_type": "code",
   "execution_count": null,
   "id": "540a6085",
   "metadata": {},
   "outputs": [
    {
     "name": "stdout",
     "output_type": "stream",
     "text": [
      "\n",
      "Tipos de dados:\n",
      "latitude            float64\n",
      "longitude           float64\n",
      "previsoes            object\n",
      "praia                object\n",
      "dia                   int64\n",
      "data         datetime64[ns]\n",
      "hora1               float64\n",
      "altura1             float64\n",
      "hora2               float64\n",
      "altura2              object\n",
      "hora3               float64\n",
      "altura3              object\n",
      "hora4               float64\n",
      "altura4              object\n",
      "0                   float64\n",
      "mes                   int64\n",
      "ano                   int64\n",
      "dtype: object\n",
      "\n",
      "Valores ausentes por coluna:\n",
      "latitude     12410\n",
      "longitude    12410\n",
      "previsoes    12410\n",
      "praia            0\n",
      "dia              0\n",
      "data          7521\n",
      "hora1            7\n",
      "altura1          7\n",
      "hora2            7\n",
      "altura2          7\n",
      "hora3            7\n",
      "altura3          7\n",
      "hora4            7\n",
      "altura4          7\n",
      "0            12417\n",
      "mes              0\n",
      "ano              0\n",
      "dtype: int64\n"
     ]
    }
   ],
   "source": [
    "print(\"\\nTipos de dados:\")\n",
    "print(df.dtypes)\n",
    "print(\"\\nValores ausentes por coluna:\")\n",
    "print(df.isnull().sum())"
   ]
  },
  {
   "cell_type": "code",
   "execution_count": null,
   "id": "e8ae05dd",
   "metadata": {},
   "outputs": [
    {
     "name": "stdout",
     "output_type": "stream",
     "text": [
      "\n",
      "✅ Dataset normalizado pronto para previsão:\n",
      "         praia  latitude  longitude       data   hora  altura  hora_decimal  \\\n",
      "0  barra_norte       0.0        0.0 2025-01-01  04:04    0.04      4.066667   \n",
      "1  barra_norte       0.0        0.0 2025-01-01  10:27    3.41     10.450000   \n",
      "2  barra_norte       0.0        0.0 2025-01-01  16:21    0.62     16.350000   \n",
      "3  barra_norte       0.0        0.0 2025-01-01  22:34    3.52     22.566667   \n",
      "4  barra_norte       0.0        0.0 2025-02-01  05:14    0.11      5.233333   \n",
      "5  barra_norte       0.0        0.0 2025-02-01  11:51    3.48     11.850000   \n",
      "6  barra_norte       0.0        0.0 2025-02-01  17:36    0.61     17.600000   \n",
      "7  barra_norte       0.0        0.0 2025-02-01  23:59    3.38     23.983333   \n",
      "8  barra_norte       0.0        0.0 2025-03-01  04:51   -0.03      4.850000   \n",
      "9  barra_norte       0.0        0.0 2025-03-01  11:08    3.50     11.133333   \n",
      "\n",
      "   mes   ano  dia_mes  semana_ano dia_da_semana  \n",
      "0    1  2025        1           1     Wednesday  \n",
      "1    1  2025        1           1     Wednesday  \n",
      "2    1  2025        1           1     Wednesday  \n",
      "3    1  2025        1           1     Wednesday  \n",
      "4    2  2025        1           5      Saturday  \n",
      "5    2  2025        1           5      Saturday  \n",
      "6    2  2025        1           5      Saturday  \n",
      "7    2  2025        1           5      Saturday  \n",
      "8    3  2025        1           9      Saturday  \n",
      "9    3  2025        1           9      Saturday  \n"
     ]
    }
   ],
   "source": [
    "df['data'] = pd.to_datetime(df['data'], errors='coerce')\n",
    "\n",
    "altura_cols = ['altura1','altura2','altura3','altura4']\n",
    "for col in altura_cols:\n",
    "    df[col] = pd.to_numeric(df[col], errors='coerce')\n",
    "\n",
    "hora_cols = ['hora1','hora2','hora3','hora4']\n",
    "for col in hora_cols:\n",
    "    df[col] = pd.to_numeric(df[col], errors='coerce')\n",
    "\n",
    "df = df.dropna(subset=['data'])\n",
    "\n",
    "records = []\n",
    "for idx, row in df.iterrows():\n",
    "    for i in range(1,5):\n",
    "        hora = row[f'hora{i}']\n",
    "        altura = row[f'altura{i}']\n",
    "        if pd.notna(hora) and pd.notna(altura):\n",
    "            hora_str = f\"{int(hora):04d}\" if hora < 10000 else str(int(hora))\n",
    "            hora_formatada = f\"{hora_str[:2]}:{hora_str[2:]}\"\n",
    "            records.append({\n",
    "                'praia': row['praia'],\n",
    "                'latitude': row['latitude'],\n",
    "                'longitude': row['longitude'],\n",
    "                'data': row['data'],\n",
    "                'hora': hora_formatada,\n",
    "                'altura': altura\n",
    "            })\n",
    "\n",
    "df_normalizado = pd.DataFrame(records)\n",
    "\n",
    "df_normalizado[['latitude','longitude']] = df_normalizado.groupby('praia')[['latitude','longitude']].ffill()\n",
    "df_normalizado['hora_decimal'] = df_normalizado['hora'].apply(lambda x: int(x.split(':')[0]) + int(x.split(':')[1])/60)\n",
    "df_normalizado = df_normalizado[pd.to_numeric(df_normalizado['altura'], errors='coerce').notna()]\n",
    "\n",
    "df_normalizado['mes'] = df_normalizado['data'].dt.month\n",
    "df_normalizado['ano'] = df_normalizado['data'].dt.year\n",
    "df_normalizado['dia_mes'] = df_normalizado['data'].dt.day\n",
    "df_normalizado['semana_ano'] = df_normalizado['data'].dt.isocalendar().week\n",
    "df_normalizado['dia_da_semana'] = df_normalizado['data'].dt.day_name()\n",
    "\n",
    "print(\"\\nDataset normalizado:\")\n",
    "print(df_normalizado.head(10))\n"
   ]
  },
  {
   "cell_type": "code",
   "execution_count": null,
   "id": "461c4409",
   "metadata": {},
   "outputs": [
    {
     "name": "stdout",
     "output_type": "stream",
     "text": [
      "latitude     18959\n",
      "longitude    18959\n",
      "dtype: int64\n"
     ]
    }
   ],
   "source": [
    "nao_nulos = df_normalizado[['latitude', 'longitude']].notna().sum()\n",
    "print(nao_nulos)"
   ]
  },
  {
   "cell_type": "code",
   "execution_count": null,
   "id": "2718ff96",
   "metadata": {},
   "outputs": [
    {
     "name": "stdout",
     "output_type": "stream",
     "text": [
      "✅ Dataset normalizado salvo em dataset_mare_tratado.csv\n"
     ]
    }
   ],
   "source": [
    "df_normalizado.to_csv(\"../public/dataset_mare_tratado.csv\", index=False)\n",
    "print(\"Dataset normalizado salvo em dataset_mare_tratado.csv\")"
   ]
  }
 ],
 "metadata": {
  "kernelspec": {
   "display_name": "Python 3",
   "language": "python",
   "name": "python3"
  },
  "language_info": {
   "codemirror_mode": {
    "name": "ipython",
    "version": 3
   },
   "file_extension": ".py",
   "mimetype": "text/x-python",
   "name": "python",
   "nbconvert_exporter": "python",
   "pygments_lexer": "ipython3",
   "version": "3.11.5"
  }
 },
 "nbformat": 4,
 "nbformat_minor": 5
}
